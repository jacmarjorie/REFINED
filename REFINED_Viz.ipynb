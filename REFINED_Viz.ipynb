{
 "cells": [
  {
   "cell_type": "markdown",
   "metadata": {},
   "source": [
    "### 0. Prepare expression data from TCGA"
   ]
  },
  {
   "cell_type": "code",
   "execution_count": 43,
   "metadata": {},
   "outputs": [
    {
     "name": "stdout",
     "output_type": "stream",
     "text": [
      "print 10 best features:\n",
      "                     Specs         Score\n",
      "19433   ENSG00000202198.1  3.608474e+09\n",
      "48631   ENSG00000262902.1  2.514031e+09\n",
      "21594   ENSG00000211459.2  1.844743e+09\n",
      "35533   ENSG00000237973.1  1.397182e+09\n",
      "27198   ENSG00000225972.1  1.360372e+09\n",
      "21558   ENSG00000210082.2  1.026426e+09\n",
      "5496   ENSG00000124233.11  8.164411e+08\n",
      "18000   ENSG00000198938.2  6.438067e+08\n",
      "48938   ENSG00000263639.4  5.967864e+08\n",
      "17968   ENSG00000198886.2  5.864804e+08\n"
     ]
    }
   ],
   "source": [
    "import pandas as pd\n",
    "import glob\n",
    "import os\n",
    "from sklearn.datasets import load_iris\n",
    "from sklearn.feature_selection import SelectKBest\n",
    "from sklearn.feature_selection import chi2\n",
    "\n",
    "def addFile(file): \n",
    "\tdf = pd.read_csv(file, sep = \"\\t\")\n",
    "\tname = os.path.basename(file)\n",
    "\tdf['file_name'] = name\n",
    "\tdf.columns = ['gene', 'fpkm', 'file_name']\n",
    "\treturn(df)\n",
    "\n",
    "def loadExpression(filepath):\n",
    "\tfiles = glob.glob(filepath)     \n",
    "\tdfs = (addFile(f) for f in files)\n",
    "\treturn pd.concat(dfs, ignore_index=True)\n",
    "\n",
    "def adjust(x): \n",
    "\treturn x+.0001\n",
    "\n",
    "\n",
    "def topKFeatures(X, y, ifPlot = False, topK = 500):\n",
    "\n",
    "    bestfeatures = SelectKBest(score_func=chi2, k = topK)\n",
    "    fit = bestfeatures.fit(X,y)\n",
    "    dfscores = pd.DataFrame(fit.scores_)\n",
    "    dfscores = pd.DataFrame(fit.scores_)\n",
    "    dfcolumns = pd.DataFrame(X.columns)\n",
    "    \n",
    "    #concat two dataframes for better visualization \n",
    "    featureScores = pd.concat([dfcolumns,dfscores],axis=1)\n",
    "    featureScores.columns = ['Specs','Score']  #naming the dataframe columns\n",
    "    print(\"print 10 best features:\\n\", featureScores.nlargest(10,'Score'))\n",
    "    \n",
    "    if ifPlot == True:\n",
    "        plt.figure()\n",
    "        featureScores.nlargest(10,'Score').plot(kind='barh')\n",
    "        plt.show()\n",
    "    \n",
    "    topk_features = featureScores.nlargest(topK,'Score').Specs.values\n",
    "\n",
    "    return topk_features\n",
    "\n",
    "clinical = pd.read_csv(\"/nfs/home/jaclyns/tcga/nationwidechildrens.org_clinical_patient_prad.txt\", sep=\"\\t\")\n",
    "# print(labels)\n",
    "\n",
    "mapping = pd.read_csv(\"/nfs/home/jaclyns/tcga/prad.txt\", sep=\"\\t\")\n",
    "mapping.columns = [\"case_id\", \"aliquot_id\", \"file_name\"]\n",
    "# print(mapping)\n",
    "\n",
    "expression = loadExpression(\"/nfs/home/jaclyns/tcga/prad/*FPKM-UQ.txt\")\n",
    "# print(expression)\n",
    "\n",
    "labels = clinical[['bcr_patient_uuid', 'gleason_score']].merge(mapping, right_on='case_id', left_on='bcr_patient_uuid')\n",
    "labels = labels[['aliquot_id', 'gleason_score']]\n",
    "\n",
    "expression = expression.merge(mapping, right_on='file_name', left_on='file_name')\n",
    "expression = expression.dropna(subset=['aliquot_id'])\n",
    "matrix = expression.pivot(index = 'aliquot_id', columns = 'gene', values = 'fpkm')\n",
    "fmatrix = matrix.join(labels.set_index('aliquot_id'), on='aliquot_id')\n",
    "\n",
    "preX = fmatrix.drop('gleason_score', 1)\n",
    "prey = fmatrix[['gleason_score']]\n",
    "\n",
    "topfs = topKFeatures(preX,prey, topK=1000)\n",
    "features = preX[topfs]\n",
    "\n"
   ]
  },
  {
   "cell_type": "markdown",
   "metadata": {},
   "source": [
    "# Visualization with REFINED\n",
    "\n",
    "In this notebook we show how to convert tabular data into images, and show those images for visualization. As it is explained in the main markdown, REFINED has two steps: Initialization with manifold learning techniques (MDS), and optimization with a search technique (hill climbing). Therefore to perform visualization with REFINED, we need to do the two steps and once we get the coordinate in the square image for each feature of the tabular data we can generate images associate with each datapoint (sample).\n",
    "\n",
    "### 1. In the below cell we perform initialization with MDS"
   ]
  },
  {
   "cell_type": "code",
   "execution_count": 44,
   "metadata": {},
   "outputs": [
    {
     "name": "stdout",
     "output_type": "stream",
     "text": [
      ">>>> Data  is loaded\n",
      ">>>> MDS dimensionality reduction is done\n",
      ">> Assign features to pixels: 320 / 1000\n",
      ">> Assign features to pixels: 414 / 1000\n",
      ">> Assign features to pixels: 473 / 1000\n",
      ">> Assign features to pixels: 526 / 1000\n",
      ">> Assign features to pixels: 572 / 1000\n",
      ">> Assign features to pixels: 616 / 1000\n",
      ">> Assign features to pixels: 655 / 1000\n",
      ">> Assign features to pixels: 691 / 1000\n",
      ">> Assign features to pixels: 721 / 1000\n",
      ">> Assign features to pixels: 747 / 1000\n",
      ">> Assign features to pixels: 775 / 1000\n",
      ">> Assign features to pixels: 796 / 1000\n",
      ">> Assign features to pixels: 813 / 1000\n",
      ">> Assign features to pixels: 831 / 1000\n",
      ">> Assign features to pixels: 849 / 1000\n",
      ">> Assign features to pixels: 866 / 1000\n",
      ">> Assign features to pixels: 877 / 1000\n",
      ">> Assign features to pixels: 890 / 1000\n",
      ">> Assign features to pixels: 902 / 1000\n",
      ">> Assign features to pixels: 909 / 1000\n",
      ">> Assign features to pixels: 916 / 1000\n",
      ">> Assign features to pixels: 926 / 1000\n",
      ">> Assign features to pixels: 933 / 1000\n",
      ">> Assign features to pixels: 939 / 1000\n",
      ">> Assign features to pixels: 945 / 1000\n",
      ">> Assign features to pixels: 951 / 1000\n",
      ">> Assign features to pixels: 956 / 1000\n",
      ">> Assign features to pixels: 962 / 1000\n",
      ">> Assign features to pixels: 966 / 1000\n",
      ">> Assign features to pixels: 971 / 1000\n",
      ">> Assign features to pixels: 975 / 1000\n",
      ">> Assign features to pixels: 979 / 1000\n",
      ">> Assign features to pixels: 985 / 1000\n",
      ">> Assign features to pixels: 989 / 1000\n",
      ">> Assign features to pixels: 993 / 1000\n",
      ">> Assign features to pixels: 995 / 1000\n",
      ">> Assign features to pixels: 997 / 1000\n",
      ">> Assign features to pixels: 999 / 1000\n",
      ">> Assign features to pixels: 1000 / 1000\n"
     ]
    }
   ],
   "source": [
    "import pickle\n",
    "import numpy as np\n",
    "import pandas as pd\n",
    "import cv2\n",
    "import matplotlib.pyplot as plt\n",
    "import scipy.misc\n",
    "import Toolbox\n",
    "from Toolbox import two_d_eq, Assign_features_to_pixels\n",
    "from sklearn.manifold import MDS\n",
    "from sklearn.metrics.pairwise import euclidean_distances\n",
    "import math\n",
    "import os\n",
    "os.chdir('/nfs/home/jaclyns/REFINED/data')\n",
    "#%% Loading the data\n",
    "# empty rows I manually removed from this file\n",
    "# Feat_DF = pd.read_csv(\"normalized_padel_feats_NCI60_672_small.csv\")\n",
    "#Feat_DF = pd.read_csv(\"C:\\\\Users\\\\obazgir\\\\Desktop\\\\CMDS_IMAGES_NEW\\\\normalized_padel_feats_NCI60_672.csv\")\n",
    "Feat_DF = features#.head(10)\n",
    "\n",
    "X = Feat_DF.values; #X = X[:,2:]\n",
    "original_input = pd.DataFrame(data = X)                              # The MDS input should be in a dataframe format with rows as samples and columns as features\n",
    "feature_names_list = original_input.columns.tolist()                 # Extracting feature_names_list (gene_names or descriptor_names)\n",
    "print(\">>>> Data  is loaded\")\n",
    "\n",
    "#%% MDS\n",
    "nn = math.ceil(np.sqrt(len(feature_names_list))) \t\t\t\t     # Image dimension\n",
    "Nn = original_input.shape[1] \t\t\t\t\t\t\t\t\t\t # Number of features\n",
    "    \n",
    "transposed_input = original_input.T \t\t\t\t\t\t\t     # The MDS input data must be transposed , because we want summarize each feature by two values (as compard to regular dimensionality reduction each sample will be described by two values)\n",
    "Euc_Dist = euclidean_distances(transposed_input) \t\t\t\t\t # Euclidean distance\n",
    "Euc_Dist = np.maximum(Euc_Dist, Euc_Dist.transpose())   \t\t\t # Making the Euclidean distance matrix symmetric\n",
    "\n",
    "embedding = MDS(n_components=2)\t\t\t\t\t\t\t\t\t\t # Reduce the dimensionality by MDS into 2 components\n",
    "mds_xy = embedding.fit_transform(transposed_input)\t\t\t\t\t # Apply MDS\t\t\t\n",
    "\n",
    "print(\">>>> MDS dimensionality reduction is done\")\n",
    "\n",
    "eq_xy = two_d_eq(mds_xy,Nn)\n",
    "Img = Assign_features_to_pixels(eq_xy,nn,verbose=1)\t\t\t\t\t# Img is the none-overlapping coordinates generated by MDS\n",
    "\n",
    "#%% To be saved for hill climbing\n",
    "Desc = Feat_DF.columns.tolist();  #Desc = Desc[2:]\t\t\t\t\t# Drug descriptors name\n",
    "Dist = pd.DataFrame(data = Euc_Dist, columns = Desc, index = Desc)\t# Generating a distance matrix which includes the Euclidean distance between each and every descriptor\n",
    "data = (Desc, Dist, Img\t)  \t\t\t\t\t\t\t\t\t\t\t# Preparing the hill climbing inputs\n",
    "\n",
    "# picklename = \"Init_MDS_Euc.pickle\"\n",
    "picklename = \"Init_PRAD_FPKM.pickle\"\n",
    "with open(picklename, 'wb') as f:\t\t\t\t\t# The hill climbing input is a pickle, therefore everything is saved as a pickle to be loaded by the hill climbing\n",
    "    pickle.dump(data, f)"
   ]
  },
  {
   "cell_type": "markdown",
   "metadata": {},
   "source": [
    "### 2. Hill Climbing\n",
    "Once the initializaiton is performed, then we have to apply the search optimizaition (hill climbing). The below bash script will run the search optimization."
   ]
  },
  {
   "cell_type": "code",
   "execution_count": 22,
   "metadata": {},
   "outputs": [
    {
     "name": "stderr",
     "output_type": "stream",
     "text": [
      "UsageError: Cell magic `%%` not found.\n"
     ]
    }
   ],
   "source": [
    "mpirun -np 32 python3 /nfs/home/jaclyns/REFINED/mpiHill_UF.py --init '/nfs/home/jaclyns/REFINED/data/Init_PRAD_FPKM.pickle'   --mapping 'Mapping_REFINED.pickle'  --evolution \"REFINED_Evolve.csv\" --num 5\n"
   ]
  },
  {
   "cell_type": "markdown",
   "metadata": {},
   "source": [
    "### 3. Visualization\n",
    "Once the search optimization is performed and the coordinates for features are obtained, we can use the coordinates to generate images for visualization purpose or training CNNs. In the below code visualization is performed."
   ]
  },
  {
   "cell_type": "code",
   "execution_count": 25,
   "metadata": {},
   "outputs": [
    {
     "data": {
      "text/plain": [
       "(-0.5, 25.5, 25.5, -0.5)"
      ]
     },
     "execution_count": 25,
     "metadata": {},
     "output_type": "execute_result"
    },
    {
     "data": {
      "image/png": "[encoded data removed]",
      "text/plain": [
       "<Figure size 1200x800 with 4 Axes>"
      ]
     },
     "metadata": {
      "needs_background": "light"
     },
     "output_type": "display_data"
    }
   ],
   "source": [
    "#%% Visualizing REFFINED images\n",
    "import math\n",
    "import pickle\n",
    "from Toolbox import REFINED_Im_Gen\n",
    "# MDS\n",
    "with open('/nfs/home/jaclyns/REFINED/Mapping_REFINED.pickle','rb') as file:\n",
    "    gene_names_MDS,coords_MDS,map_in_int_MDS = pickle.load(file)\n",
    "\n",
    "# We pick the first 100 data points because of computational costs, but you can pick the entire datasets.\n",
    "X_REFINED_MDS = REFINED_Im_Gen(X[:100,:],nn, map_in_int_MDS, gene_names_MDS,coords_MDS)\n",
    "\n",
    "Font = 20\n",
    "\n",
    "fig=plt.figure(figsize=(12,8), dpi= 100)\n",
    "plt.subplot(141)\n",
    "plt.imshow(X_REFINED_MDS[1,:].reshape(26,26), cmap = 'viridis')\n",
    "plt.title(\"Example1\", fontsize = Font)\n",
    "plt.axis('off')\n",
    "\n",
    "plt.subplot(142)\n",
    "plt.imshow(X_REFINED_MDS[2,:].reshape(26,26), cmap = 'viridis')\n",
    "plt.title(\"Example2\", fontsize = Font)\n",
    "plt.axis('off')\n",
    "\n",
    "plt.subplot(143)\n",
    "plt.imshow(X_REFINED_MDS[3,:].reshape(26,26), cmap = 'viridis')\n",
    "plt.title(\"Example3\", fontsize = Font)\n",
    "plt.axis('off')\n",
    "\n",
    "\n",
    "plt.subplot(144)\n",
    "plt.imshow(X_REFINED_MDS[4,:].reshape(26,26), cmap = 'viridis')\n",
    "plt.title(\"Example4\", fontsize = Font)\n",
    "plt.axis('off')"
   ]
  },
  {
   "cell_type": "code",
   "execution_count": null,
   "metadata": {},
   "outputs": [],
   "source": []
  }
 ],
 "metadata": {
  "kernelspec": {
   "display_name": "Python 3",
   "language": "python",
   "name": "python3"
  },
  "language_info": {
   "codemirror_mode": {
    "name": "ipython",
    "version": 3
   },
   "file_extension": ".py",
   "mimetype": "text/x-python",
   "name": "python",
   "nbconvert_exporter": "python",
   "pygments_lexer": "ipython3",
   "version": "3.6.13"
  }
 },
 "nbformat": 4,
 "nbformat_minor": 4
}
